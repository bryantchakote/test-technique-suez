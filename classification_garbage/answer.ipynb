{
 "cells": [
  {
   "cell_type": "markdown",
   "metadata": {},
   "source": [
    "# **Classification garbage**"
   ]
  },
  {
   "cell_type": "markdown",
   "metadata": {},
   "source": [
    "#### **1. Data labelling**"
   ]
  },
  {
   "cell_type": "markdown",
   "metadata": {},
   "source": [
    "- We first observed the labelled images in the train set to familiarize with the data\n",
    "- We then tried to classify the unlabelled images in the test set\n",
    "- Going through each of them, if the target is clear, we move the image to the appropriate folder\n",
    "- In case of doubt, we ran into an iterative process:\n",
    "  - Keep the concerned images aside\n",
    "  - Figure out which ones can be classified correctly with some certainty, considering the number of missing samples in each group\n",
    "  - Add the selected images to the target folders\n",
    "- At a certain point we had a great challenge with 6 confusing images :\n",
    "  - 3 were considered clean: `WhatsApp Image 2020-05-18 at 11.57.03 AM (5).jpeg`, `WhatsApp Image 2021-01-29 at 6.23.22 PM.jpeg`, and `WhatsApp Image 2020-08-21 at 9.54.56 AM (4).jpeg`\n",
    "  - 3 were considered dirty: `00569_03.jpg`, `00594_00.jpg`, and `01300_00.jpg`\n",
    "  - In a real use case, we would have discussed with different people to validate this entire labeling process\n",
    "- The file names of the classified images are saved in txt files: `test/clean/clean.txt`, and `test/dirty/dirty.txt`"
   ]
  },
  {
   "cell_type": "markdown",
   "metadata": {},
   "source": [
    "#### **2. Train a classification model on the data**"
   ]
  },
  {
   "cell_type": "markdown",
   "metadata": {},
   "source": [
    "- **Data**\n",
    "  - We have 2 classes: `clean` and `dirty`\n",
    "  - FOR EACH of them, we have the following splits:\n",
    "    -  `train`:\n",
    "       -  20 labelled samples\n",
    "       -  280 unlabelled samples\n",
    "    -  `test`: 100 unlabelled samples, we labelled them\n",
    "   -  The 280 unlabelled samples were all labelled and exploited this way:\n",
    "      -  20 samples were picked for the validation set to asses the model's performance during training\n",
    "      -  The rest (260) constituted a sort of inference test to simulate a real-world deployment with feedback (since we have the real labels)\n",
    "   -  As previously said, some images were very hard to classify visually, this work assumes we have correctly identified the labels\n",
    "   -  For reproducibility, the classified images file names are saved in text files: `train|val|test|inference/clean|dirty.txt`\n",
    "-  **Model**\n",
    "   - We are going to train a YOLO model (v11) from [Ultralytics](https://docs.ultralytics.com/) on a classification task\n",
    "   - It achieves state-of-the-art performance accros multiple tasks\n",
    "   - Generally, the images don't need any prior manual processing\n",
    " - **Evaluation**\n",
    "   - We expect to achieve a high score on the binary classification metrics (accuracy, precision, and recall)\n",
    "   - In this use case, we assume that a \"dirty\" prediction on an image will alert a garbage collector to remove the dirt\n",
    "   - Therefore, we think it's more suitable to trigger some false alarms (\"clean\" garbage predicted as \"dirty\"), than missing a really full garbage can (\"dirty\" classified as \"clean\")"
   ]
  }
 ],
 "metadata": {
  "kernelspec": {
   "display_name": "test-technique-suez-8kMx1456-py3.13",
   "language": "python",
   "name": "python3"
  },
  "language_info": {
   "codemirror_mode": {
    "name": "ipython",
    "version": 3
   },
   "file_extension": ".py",
   "mimetype": "text/x-python",
   "name": "python",
   "nbconvert_exporter": "python",
   "pygments_lexer": "ipython3",
   "version": "3.13.1"
  }
 },
 "nbformat": 4,
 "nbformat_minor": 2
}
