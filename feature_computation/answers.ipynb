{
 "cells": [
  {
   "cell_type": "markdown",
   "metadata": {},
   "source": [
    "# **Feature computation**"
   ]
  },
  {
   "cell_type": "markdown",
   "metadata": {},
   "source": [
    "#### **0. Quick data analysis**"
   ]
  },
  {
   "cell_type": "code",
   "execution_count": 1,
   "metadata": {},
   "outputs": [],
   "source": [
    "import numpy as np\n",
    "import pandas as pd\n",
    "\n",
    "import matplotlib.pyplot as plt\n",
    "import seaborn as sns\n",
    "\n",
    "plt.style.use(\"ggplot\")"
   ]
  },
  {
   "cell_type": "code",
   "execution_count": null,
   "metadata": {},
   "outputs": [
    {
     "data": {
      "text/html": [
       "<div>\n",
       "<style scoped>\n",
       "    .dataframe tbody tr th:only-of-type {\n",
       "        vertical-align: middle;\n",
       "    }\n",
       "\n",
       "    .dataframe tbody tr th {\n",
       "        vertical-align: top;\n",
       "    }\n",
       "\n",
       "    .dataframe thead th {\n",
       "        text-align: right;\n",
       "    }\n",
       "</style>\n",
       "<table border=\"1\" class=\"dataframe\">\n",
       "  <thead>\n",
       "    <tr style=\"text-align: right;\">\n",
       "      <th></th>\n",
       "      <th>date</th>\n",
       "      <th>servicePoint</th>\n",
       "      <th>volume_l_value</th>\n",
       "    </tr>\n",
       "  </thead>\n",
       "  <tbody>\n",
       "    <tr>\n",
       "      <th>0</th>\n",
       "      <td>21/10/2024</td>\n",
       "      <td>112637</td>\n",
       "      <td>0.0</td>\n",
       "    </tr>\n",
       "    <tr>\n",
       "      <th>1</th>\n",
       "      <td>20/10/2024</td>\n",
       "      <td>112637</td>\n",
       "      <td>0.0</td>\n",
       "    </tr>\n",
       "    <tr>\n",
       "      <th>2</th>\n",
       "      <td>21/10/2024</td>\n",
       "      <td>100732</td>\n",
       "      <td>0.0</td>\n",
       "    </tr>\n",
       "    <tr>\n",
       "      <th>3</th>\n",
       "      <td>19/10/2024</td>\n",
       "      <td>112637</td>\n",
       "      <td>0.0</td>\n",
       "    </tr>\n",
       "    <tr>\n",
       "      <th>4</th>\n",
       "      <td>18/10/2024</td>\n",
       "      <td>112637</td>\n",
       "      <td>0.0</td>\n",
       "    </tr>\n",
       "  </tbody>\n",
       "</table>\n",
       "</div>"
      ],
      "text/plain": [
       "         date  servicePoint  volume_l_value\n",
       "0  21/10/2024        112637             0.0\n",
       "1  20/10/2024        112637             0.0\n",
       "2  21/10/2024        100732             0.0\n",
       "3  19/10/2024        112637             0.0\n",
       "4  18/10/2024        112637             0.0"
      ]
     },
     "execution_count": 2,
     "metadata": {},
     "output_type": "execute_result"
    }
   ],
   "source": [
    "df = pd.read_csv(\"spark_dataset.csv\", sep=\";\")\n",
    "df.head()"
   ]
  },
  {
   "cell_type": "code",
   "execution_count": 3,
   "metadata": {},
   "outputs": [
    {
     "name": "stdout",
     "output_type": "stream",
     "text": [
      "<class 'pandas.core.frame.DataFrame'>\n",
      "RangeIndex: 885 entries, 0 to 884\n",
      "Data columns (total 3 columns):\n",
      " #   Column          Non-Null Count  Dtype  \n",
      "---  ------          --------------  -----  \n",
      " 0   date            885 non-null    object \n",
      " 1   servicePoint    885 non-null    int64  \n",
      " 2   volume_l_value  885 non-null    float64\n",
      "dtypes: float64(1), int64(1), object(1)\n",
      "memory usage: 20.9+ KB\n"
     ]
    }
   ],
   "source": [
    "df.info()"
   ]
  },
  {
   "cell_type": "markdown",
   "metadata": {},
   "source": [
    "- 885 rows\n",
    "- 3 columns\n",
    "  - `date`: the current date (should be converted in pandas date format)\n",
    "  - `servicePoint`: the meter service point (there are 3 in the dataset)\n",
    "  - `volume_l_value`: the volume of watter consumed per day (in liters?)\n",
    "- No missing value"
   ]
  },
  {
   "cell_type": "code",
   "execution_count": 4,
   "metadata": {},
   "outputs": [],
   "source": [
    "# Date convertion\n",
    "df[\"date\"] = pd.to_datetime(df[\"date\"], format=\"%d/%m/%Y\")"
   ]
  },
  {
   "cell_type": "code",
   "execution_count": null,
   "metadata": {},
   "outputs": [
    {
     "data": {
      "text/plain": [
       "servicePoint\n",
       "21827     295\n",
       "100732    295\n",
       "112637    295\n",
       "dtype: int64"
      ]
     },
     "execution_count": 5,
     "metadata": {},
     "output_type": "execute_result"
    }
   ],
   "source": [
    "# Q: Do the service points have the same number of data?\n",
    "df.groupby([\"servicePoint\"]).size()\n",
    "\n",
    "# A: Yes"
   ]
  },
  {
   "cell_type": "code",
   "execution_count": 6,
   "metadata": {},
   "outputs": [
    {
     "data": {
      "text/plain": [
       "np.True_"
      ]
     },
     "execution_count": 6,
     "metadata": {},
     "output_type": "execute_result"
    }
   ],
   "source": [
    "# Q: Then we assume that we have one data point per date and per service point. Is that True?\n",
    "(df.groupby([\"servicePoint\", \"date\"]).size() == 1).all()\n",
    "\n",
    "# A: Yes"
   ]
  },
  {
   "cell_type": "code",
   "execution_count": 7,
   "metadata": {},
   "outputs": [
    {
     "data": {
      "text/plain": [
       "295"
      ]
     },
     "execution_count": 7,
     "metadata": {},
     "output_type": "execute_result"
    }
   ],
   "source": [
    "# Q: Were the data recorded on the same days for all service points?\n",
    "df[\"date\"].nunique()\n",
    "\n",
    "# A: Yes"
   ]
  },
  {
   "cell_type": "code",
   "execution_count": 8,
   "metadata": {},
   "outputs": [
    {
     "data": {
      "text/plain": [
       "<TimedeltaArray>\n",
       "[NaT, '1 days']\n",
       "Length: 2, dtype: timedelta64[ns]"
      ]
     },
     "execution_count": 8,
     "metadata": {},
     "output_type": "execute_result"
    }
   ],
   "source": [
    "# Q: Are those days consecutive?\n",
    "df[\"date\"].drop_duplicates().sort_values().diff().unique()\n",
    "\n",
    "# A: Yes"
   ]
  },
  {
   "cell_type": "code",
   "execution_count": 9,
   "metadata": {},
   "outputs": [
    {
     "data": {
      "text/plain": [
       "(Timestamp('2024-01-01 00:00:00'), Timestamp('2024-10-21 00:00:00'))"
      ]
     },
     "execution_count": 9,
     "metadata": {},
     "output_type": "execute_result"
    }
   ],
   "source": [
    "# Q: What's the data collection period?\n",
    "df[\"date\"].min(), df[\"date\"].max()\n",
    "\n",
    "# A: From Jan 01, 2024 to Oct 21, 2024"
   ]
  },
  {
   "cell_type": "code",
   "execution_count": 10,
   "metadata": {},
   "outputs": [
    {
     "data": {
      "image/png": "[encoded data removed]",
      "text/plain": [
       "<Figure size 1800x900 with 3 Axes>"
      ]
     },
     "metadata": {},
     "output_type": "display_data"
    }
   ],
   "source": [
    "# The data is perfectly aligned, we can easily visualize them\n",
    "sns.relplot(\n",
    "    df, x=\"date\", y=\"volume_l_value\", row=\"servicePoint\",\n",
    "    kind=\"line\", height=3, aspect=6\n",
    ")\n",
    "plt.suptitle(\"Water consumption for some service points\", y=1.02, fontsize=14)\n",
    "plt.show()"
   ]
  },
  {
   "cell_type": "code",
   "execution_count": 11,
   "metadata": {},
   "outputs": [],
   "source": [
    "# We want to sort and split the data before processing it\n",
    "# -> The index is reset so that each row \"n\" is followed by the row \"n+1\"\n",
    "# -> This will be helpful for answering the questions\n",
    "df.sort_values([\"servicePoint\", \"date\"], ignore_index=True, inplace=True)\n",
    "\n",
    "# Service point indexes for filtering\n",
    "sp_1 = df[df[\"servicePoint\"] == 21827].index\n",
    "sp_2 = df[df[\"servicePoint\"] == 100732].index\n",
    "sp_3 = df[df[\"servicePoint\"] == 112637].index"
   ]
  },
  {
   "cell_type": "markdown",
   "metadata": {},
   "source": [
    "#### **1. Compute `v1`**"
   ]
  },
  {
   "cell_type": "markdown",
   "metadata": {},
   "source": [
    "- `v1` represents the elapsed time without consumption, i.e the difference between day of analysis and last day with significant consumption (> 20 liters) for 2 consecutive days (consider each service point alone)\n",
    "- Definition: We denote To the last day of consumption according to the definition above and T the current\n",
    "day. We then have v1 = T - To"
   ]
  },
  {
   "cell_type": "code",
   "execution_count": 12,
   "metadata": {},
   "outputs": [],
   "source": [
    "# Days with significant consumption (> 20 liters)\n",
    "df[\"vol>20\"] = df[\"volume_l_value\"] > 20\n",
    "\n",
    "# Consecutive significant consumptions (T0)\n",
    "# -> This is determined by creating a lagged version of the column `vol>20`\n",
    "# -> The T0s are the days for which (`vol>20` == 1) and (`vol>20_lag` == 1)\n",
    "\n",
    "# We should process each service point separately when shifting the data\n",
    "df.loc[sp_1, \"vol>20_lag\"] = df.loc[sp_1, \"vol>20\"].shift()\n",
    "df.loc[sp_2, \"vol>20_lag\"] = df.loc[sp_2, \"vol>20\"].shift()\n",
    "df.loc[sp_3, \"vol>20_lag\"] = df.loc[sp_3, \"vol>20\"].shift()\n",
    "\n",
    "# Compute T0\n",
    "df[\"T0\"] = (df[\"vol>20\"] & df[\"vol>20_lag\"])\n",
    "\n",
    "# Get T0s for each service point\n",
    "T0 = df[df[\"T0\"] == 1].index\n",
    "T0_1 = T0.intersection(sp_1)\n",
    "T0_2 = T0.intersection(sp_2)\n",
    "T0_3 = T0.intersection(sp_3)"
   ]
  },
  {
   "cell_type": "code",
   "execution_count": 13,
   "metadata": {},
   "outputs": [],
   "source": [
    "def compute_v1(row_id, T0):\n",
    "    # Compare each row id to the array of T0s\n",
    "    days_diff = row_id - T0\n",
    "    \n",
    "    # Days before the observation\n",
    "    days_before = days_diff[np.where(days_diff >= 0)[0]]\n",
    "    \n",
    "    if len(days_before) > 0:\n",
    "        # The nearest T0 day before the observation\n",
    "        v1 = days_before[-1]\n",
    "    else:\n",
    "        # We don't have the information\n",
    "        v1 = np.nan\n",
    "    return v1"
   ]
  },
  {
   "cell_type": "code",
   "execution_count": 14,
   "metadata": {},
   "outputs": [],
   "source": [
    "# Execute the function for each service point\n",
    "v1_1 = sp_1.to_series().apply(lambda row_id: compute_v1(row_id, T0_1))\n",
    "v1_2 = sp_2.to_series().apply(lambda row_id: compute_v1(row_id, T0_2))\n",
    "v1_3 = sp_3.to_series().apply(lambda row_id: compute_v1(row_id, T0_3))\n",
    "\n",
    "# Add v1 to the dataset\n",
    "df[\"v1\"] = pd.concat([v1_1, v1_2, v1_3])"
   ]
  },
  {
   "cell_type": "code",
   "execution_count": 15,
   "metadata": {},
   "outputs": [
    {
     "data": {
      "text/html": [
       "<div>\n",
       "<style scoped>\n",
       "    .dataframe tbody tr th:only-of-type {\n",
       "        vertical-align: middle;\n",
       "    }\n",
       "\n",
       "    .dataframe tbody tr th {\n",
       "        vertical-align: top;\n",
       "    }\n",
       "\n",
       "    .dataframe thead th {\n",
       "        text-align: right;\n",
       "    }\n",
       "</style>\n",
       "<table border=\"1\" class=\"dataframe\">\n",
       "  <thead>\n",
       "    <tr style=\"text-align: right;\">\n",
       "      <th></th>\n",
       "      <th>date</th>\n",
       "      <th>servicePoint</th>\n",
       "      <th>volume_l_value</th>\n",
       "      <th>vol&gt;20</th>\n",
       "      <th>vol&gt;20_lag</th>\n",
       "      <th>T0</th>\n",
       "      <th>v1</th>\n",
       "    </tr>\n",
       "  </thead>\n",
       "  <tbody>\n",
       "    <tr>\n",
       "      <th>270</th>\n",
       "      <td>2024-09-27</td>\n",
       "      <td>21827</td>\n",
       "      <td>0.0</td>\n",
       "      <td>False</td>\n",
       "      <td>False</td>\n",
       "      <td>False</td>\n",
       "      <td>NaN</td>\n",
       "    </tr>\n",
       "    <tr>\n",
       "      <th>271</th>\n",
       "      <td>2024-09-28</td>\n",
       "      <td>21827</td>\n",
       "      <td>0.0</td>\n",
       "      <td>False</td>\n",
       "      <td>False</td>\n",
       "      <td>False</td>\n",
       "      <td>NaN</td>\n",
       "    </tr>\n",
       "    <tr>\n",
       "      <th>272</th>\n",
       "      <td>2024-09-29</td>\n",
       "      <td>21827</td>\n",
       "      <td>21.0</td>\n",
       "      <td>True</td>\n",
       "      <td>False</td>\n",
       "      <td>False</td>\n",
       "      <td>NaN</td>\n",
       "    </tr>\n",
       "    <tr>\n",
       "      <th>273</th>\n",
       "      <td>2024-09-30</td>\n",
       "      <td>21827</td>\n",
       "      <td>21.0</td>\n",
       "      <td>True</td>\n",
       "      <td>True</td>\n",
       "      <td>True</td>\n",
       "      <td>0.0</td>\n",
       "    </tr>\n",
       "    <tr>\n",
       "      <th>274</th>\n",
       "      <td>2024-10-01</td>\n",
       "      <td>21827</td>\n",
       "      <td>21.0</td>\n",
       "      <td>True</td>\n",
       "      <td>True</td>\n",
       "      <td>True</td>\n",
       "      <td>0.0</td>\n",
       "    </tr>\n",
       "    <tr>\n",
       "      <th>275</th>\n",
       "      <td>2024-10-02</td>\n",
       "      <td>21827</td>\n",
       "      <td>30.0</td>\n",
       "      <td>True</td>\n",
       "      <td>True</td>\n",
       "      <td>True</td>\n",
       "      <td>0.0</td>\n",
       "    </tr>\n",
       "    <tr>\n",
       "      <th>276</th>\n",
       "      <td>2024-10-03</td>\n",
       "      <td>21827</td>\n",
       "      <td>28.0</td>\n",
       "      <td>True</td>\n",
       "      <td>True</td>\n",
       "      <td>True</td>\n",
       "      <td>0.0</td>\n",
       "    </tr>\n",
       "    <tr>\n",
       "      <th>277</th>\n",
       "      <td>2024-10-04</td>\n",
       "      <td>21827</td>\n",
       "      <td>25.0</td>\n",
       "      <td>True</td>\n",
       "      <td>True</td>\n",
       "      <td>True</td>\n",
       "      <td>0.0</td>\n",
       "    </tr>\n",
       "    <tr>\n",
       "      <th>278</th>\n",
       "      <td>2024-10-05</td>\n",
       "      <td>21827</td>\n",
       "      <td>0.0</td>\n",
       "      <td>False</td>\n",
       "      <td>True</td>\n",
       "      <td>False</td>\n",
       "      <td>1.0</td>\n",
       "    </tr>\n",
       "    <tr>\n",
       "      <th>279</th>\n",
       "      <td>2024-10-06</td>\n",
       "      <td>21827</td>\n",
       "      <td>0.0</td>\n",
       "      <td>False</td>\n",
       "      <td>False</td>\n",
       "      <td>False</td>\n",
       "      <td>2.0</td>\n",
       "    </tr>\n",
       "  </tbody>\n",
       "</table>\n",
       "</div>"
      ],
      "text/plain": [
       "          date  servicePoint  volume_l_value  vol>20 vol>20_lag     T0   v1\n",
       "270 2024-09-27         21827             0.0   False      False  False  NaN\n",
       "271 2024-09-28         21827             0.0   False      False  False  NaN\n",
       "272 2024-09-29         21827            21.0    True      False  False  NaN\n",
       "273 2024-09-30         21827            21.0    True       True   True  0.0\n",
       "274 2024-10-01         21827            21.0    True       True   True  0.0\n",
       "275 2024-10-02         21827            30.0    True       True   True  0.0\n",
       "276 2024-10-03         21827            28.0    True       True   True  0.0\n",
       "277 2024-10-04         21827            25.0    True       True   True  0.0\n",
       "278 2024-10-05         21827             0.0   False       True  False  1.0\n",
       "279 2024-10-06         21827             0.0   False      False  False  2.0"
      ]
     },
     "execution_count": 15,
     "metadata": {},
     "output_type": "execute_result"
    }
   ],
   "source": [
    "# Display\n",
    "df.iloc[270:280]"
   ]
  },
  {
   "cell_type": "markdown",
   "metadata": {},
   "source": [
    "#### **2. Compute `v2`**"
   ]
  },
  {
   "cell_type": "markdown",
   "metadata": {},
   "source": [
    "- `v2` describes the non-zero consumption rate over 90 days before To\n",
    "- We assume To is always the current day, and not the To from the previous exercice\n",
    "- If we want to focus on previous To only, we can easily filter the dataset accordingly"
   ]
  },
  {
   "cell_type": "code",
   "execution_count": 16,
   "metadata": {},
   "outputs": [],
   "source": [
    "def compute_v2(row_id, lower_bound, upper_bound):\n",
    "    # 90-days interval\n",
    "    ids_90 = range(row_id - 90, row_id)\n",
    "    \n",
    "    # Interval check\n",
    "    if (ids_90[0] < lower_bound) | (ids_90[0] > upper_bound):\n",
    "        return np.nan\n",
    "    \n",
    "    # Number of days with a noticed consumption\n",
    "    non_zero_cons = (df.iloc[ids_90][\"volume_l_value\"] > 0).sum()\n",
    "    \n",
    "    # v2 rate\n",
    "    v2 = non_zero_cons / 90\n",
    "    \n",
    "    return v2"
   ]
  },
  {
   "cell_type": "code",
   "execution_count": 17,
   "metadata": {},
   "outputs": [],
   "source": [
    "# Execute the function for each service point\n",
    "v2_1 = sp_1.to_series().apply(lambda row_id: compute_v2(row_id, sp_1[0], sp_1[-1]))\n",
    "v2_2 = sp_2.to_series().apply(lambda row_id: compute_v2(row_id, sp_2[0], sp_2[-1]))\n",
    "v2_3 = sp_3.to_series().apply(lambda row_id: compute_v2(row_id, sp_3[0], sp_3[-1]))\n",
    "\n",
    "# Add v2 to the dataset\n",
    "df[\"v2\"] = pd.concat([v2_1, v2_2, v2_3])"
   ]
  },
  {
   "cell_type": "code",
   "execution_count": 18,
   "metadata": {},
   "outputs": [
    {
     "data": {
      "text/html": [
       "<div>\n",
       "<style scoped>\n",
       "    .dataframe tbody tr th:only-of-type {\n",
       "        vertical-align: middle;\n",
       "    }\n",
       "\n",
       "    .dataframe tbody tr th {\n",
       "        vertical-align: top;\n",
       "    }\n",
       "\n",
       "    .dataframe thead th {\n",
       "        text-align: right;\n",
       "    }\n",
       "</style>\n",
       "<table border=\"1\" class=\"dataframe\">\n",
       "  <thead>\n",
       "    <tr style=\"text-align: right;\">\n",
       "      <th></th>\n",
       "      <th>date</th>\n",
       "      <th>servicePoint</th>\n",
       "      <th>volume_l_value</th>\n",
       "      <th>v2</th>\n",
       "    </tr>\n",
       "  </thead>\n",
       "  <tbody>\n",
       "    <tr>\n",
       "      <th>270</th>\n",
       "      <td>2024-09-27</td>\n",
       "      <td>21827</td>\n",
       "      <td>0.0</td>\n",
       "      <td>0.155556</td>\n",
       "    </tr>\n",
       "    <tr>\n",
       "      <th>271</th>\n",
       "      <td>2024-09-28</td>\n",
       "      <td>21827</td>\n",
       "      <td>0.0</td>\n",
       "      <td>0.155556</td>\n",
       "    </tr>\n",
       "    <tr>\n",
       "      <th>272</th>\n",
       "      <td>2024-09-29</td>\n",
       "      <td>21827</td>\n",
       "      <td>21.0</td>\n",
       "      <td>0.155556</td>\n",
       "    </tr>\n",
       "    <tr>\n",
       "      <th>273</th>\n",
       "      <td>2024-09-30</td>\n",
       "      <td>21827</td>\n",
       "      <td>21.0</td>\n",
       "      <td>0.166667</td>\n",
       "    </tr>\n",
       "    <tr>\n",
       "      <th>274</th>\n",
       "      <td>2024-10-01</td>\n",
       "      <td>21827</td>\n",
       "      <td>21.0</td>\n",
       "      <td>0.166667</td>\n",
       "    </tr>\n",
       "    <tr>\n",
       "      <th>275</th>\n",
       "      <td>2024-10-02</td>\n",
       "      <td>21827</td>\n",
       "      <td>30.0</td>\n",
       "      <td>0.177778</td>\n",
       "    </tr>\n",
       "    <tr>\n",
       "      <th>276</th>\n",
       "      <td>2024-10-03</td>\n",
       "      <td>21827</td>\n",
       "      <td>28.0</td>\n",
       "      <td>0.188889</td>\n",
       "    </tr>\n",
       "    <tr>\n",
       "      <th>277</th>\n",
       "      <td>2024-10-04</td>\n",
       "      <td>21827</td>\n",
       "      <td>25.0</td>\n",
       "      <td>0.200000</td>\n",
       "    </tr>\n",
       "    <tr>\n",
       "      <th>278</th>\n",
       "      <td>2024-10-05</td>\n",
       "      <td>21827</td>\n",
       "      <td>0.0</td>\n",
       "      <td>0.211111</td>\n",
       "    </tr>\n",
       "    <tr>\n",
       "      <th>279</th>\n",
       "      <td>2024-10-06</td>\n",
       "      <td>21827</td>\n",
       "      <td>0.0</td>\n",
       "      <td>0.211111</td>\n",
       "    </tr>\n",
       "  </tbody>\n",
       "</table>\n",
       "</div>"
      ],
      "text/plain": [
       "          date  servicePoint  volume_l_value        v2\n",
       "270 2024-09-27         21827             0.0  0.155556\n",
       "271 2024-09-28         21827             0.0  0.155556\n",
       "272 2024-09-29         21827            21.0  0.155556\n",
       "273 2024-09-30         21827            21.0  0.166667\n",
       "274 2024-10-01         21827            21.0  0.166667\n",
       "275 2024-10-02         21827            30.0  0.177778\n",
       "276 2024-10-03         21827            28.0  0.188889\n",
       "277 2024-10-04         21827            25.0  0.200000\n",
       "278 2024-10-05         21827             0.0  0.211111\n",
       "279 2024-10-06         21827             0.0  0.211111"
      ]
     },
     "execution_count": 18,
     "metadata": {},
     "output_type": "execute_result"
    }
   ],
   "source": [
    "# Display\n",
    "df.drop(columns=[\"v1\", \"vol>20\", \"vol>20_lag\", \"T0\"]).iloc[270:280]"
   ]
  },
  {
   "cell_type": "markdown",
   "metadata": {},
   "source": [
    "#### **3. Results**"
   ]
  },
  {
   "cell_type": "code",
   "execution_count": 19,
   "metadata": {},
   "outputs": [
    {
     "data": {
      "text/html": [
       "<div>\n",
       "<style scoped>\n",
       "    .dataframe tbody tr th:only-of-type {\n",
       "        vertical-align: middle;\n",
       "    }\n",
       "\n",
       "    .dataframe tbody tr th {\n",
       "        vertical-align: top;\n",
       "    }\n",
       "\n",
       "    .dataframe thead th {\n",
       "        text-align: right;\n",
       "    }\n",
       "</style>\n",
       "<table border=\"1\" class=\"dataframe\">\n",
       "  <thead>\n",
       "    <tr style=\"text-align: right;\">\n",
       "      <th></th>\n",
       "      <th>date</th>\n",
       "      <th>servicePoint</th>\n",
       "      <th>volume_l_value</th>\n",
       "      <th>v1</th>\n",
       "      <th>v2</th>\n",
       "    </tr>\n",
       "  </thead>\n",
       "  <tbody>\n",
       "    <tr>\n",
       "      <th>270</th>\n",
       "      <td>2024-09-27</td>\n",
       "      <td>21827</td>\n",
       "      <td>0.0</td>\n",
       "      <td>NaN</td>\n",
       "      <td>0.155556</td>\n",
       "    </tr>\n",
       "    <tr>\n",
       "      <th>271</th>\n",
       "      <td>2024-09-28</td>\n",
       "      <td>21827</td>\n",
       "      <td>0.0</td>\n",
       "      <td>NaN</td>\n",
       "      <td>0.155556</td>\n",
       "    </tr>\n",
       "    <tr>\n",
       "      <th>272</th>\n",
       "      <td>2024-09-29</td>\n",
       "      <td>21827</td>\n",
       "      <td>21.0</td>\n",
       "      <td>NaN</td>\n",
       "      <td>0.155556</td>\n",
       "    </tr>\n",
       "    <tr>\n",
       "      <th>273</th>\n",
       "      <td>2024-09-30</td>\n",
       "      <td>21827</td>\n",
       "      <td>21.0</td>\n",
       "      <td>0.0</td>\n",
       "      <td>0.166667</td>\n",
       "    </tr>\n",
       "    <tr>\n",
       "      <th>274</th>\n",
       "      <td>2024-10-01</td>\n",
       "      <td>21827</td>\n",
       "      <td>21.0</td>\n",
       "      <td>0.0</td>\n",
       "      <td>0.166667</td>\n",
       "    </tr>\n",
       "    <tr>\n",
       "      <th>275</th>\n",
       "      <td>2024-10-02</td>\n",
       "      <td>21827</td>\n",
       "      <td>30.0</td>\n",
       "      <td>0.0</td>\n",
       "      <td>0.177778</td>\n",
       "    </tr>\n",
       "    <tr>\n",
       "      <th>276</th>\n",
       "      <td>2024-10-03</td>\n",
       "      <td>21827</td>\n",
       "      <td>28.0</td>\n",
       "      <td>0.0</td>\n",
       "      <td>0.188889</td>\n",
       "    </tr>\n",
       "    <tr>\n",
       "      <th>277</th>\n",
       "      <td>2024-10-04</td>\n",
       "      <td>21827</td>\n",
       "      <td>25.0</td>\n",
       "      <td>0.0</td>\n",
       "      <td>0.200000</td>\n",
       "    </tr>\n",
       "    <tr>\n",
       "      <th>278</th>\n",
       "      <td>2024-10-05</td>\n",
       "      <td>21827</td>\n",
       "      <td>0.0</td>\n",
       "      <td>1.0</td>\n",
       "      <td>0.211111</td>\n",
       "    </tr>\n",
       "    <tr>\n",
       "      <th>279</th>\n",
       "      <td>2024-10-06</td>\n",
       "      <td>21827</td>\n",
       "      <td>0.0</td>\n",
       "      <td>2.0</td>\n",
       "      <td>0.211111</td>\n",
       "    </tr>\n",
       "  </tbody>\n",
       "</table>\n",
       "</div>"
      ],
      "text/plain": [
       "          date  servicePoint  volume_l_value   v1        v2\n",
       "270 2024-09-27         21827             0.0  NaN  0.155556\n",
       "271 2024-09-28         21827             0.0  NaN  0.155556\n",
       "272 2024-09-29         21827            21.0  NaN  0.155556\n",
       "273 2024-09-30         21827            21.0  0.0  0.166667\n",
       "274 2024-10-01         21827            21.0  0.0  0.166667\n",
       "275 2024-10-02         21827            30.0  0.0  0.177778\n",
       "276 2024-10-03         21827            28.0  0.0  0.188889\n",
       "277 2024-10-04         21827            25.0  0.0  0.200000\n",
       "278 2024-10-05         21827             0.0  1.0  0.211111\n",
       "279 2024-10-06         21827             0.0  2.0  0.211111"
      ]
     },
     "execution_count": 19,
     "metadata": {},
     "output_type": "execute_result"
    }
   ],
   "source": [
    "df.drop(columns=[\"vol>20\", \"vol>20_lag\", \"T0\"], inplace=True)\n",
    "df.iloc[270:280]"
   ]
  }
 ],
 "metadata": {
  "kernelspec": {
   "display_name": "test-technique-suez-8kMx1456-py3.13",
   "language": "python",
   "name": "python3"
  },
  "language_info": {
   "codemirror_mode": {
    "name": "ipython",
    "version": 3
   },
   "file_extension": ".py",
   "mimetype": "text/x-python",
   "name": "python",
   "nbconvert_exporter": "python",
   "pygments_lexer": "ipython3",
   "version": "3.13.1"
  }
 },
 "nbformat": 4,
 "nbformat_minor": 2
}
